{
 "cells": [
  {
   "cell_type": "code",
   "execution_count": 5,
   "id": "2e7ea6e6-bd67-488f-9abe-03ca519db30d",
   "metadata": {},
   "outputs": [
    {
     "name": "stdout",
     "output_type": "stream",
     "text": [
      "Number of TIC objects within 0.200000 deg of HD 209458: 1345\n",
      "Number of objects classified as 'DWARF' within 0.200000 deg of HD 209458: 903\n",
      "Number of objects classified as 'GIANT' within 0.200000 deg of HD 209458: 28\n",
      "Closest TIC ID to HD 209458: TIC 420814525, separation of 0.003237 arcsec. and a TESS mag. of 7.127400\n"
     ]
    }
   ],
   "source": [
    "from astroquery.mast import Catalogs\n",
    "import numpy as np\n",
    "\n",
    "target_name = \"HD 209458\"\n",
    "search_radius_deg = 0.2\n",
    "\n",
    "# Query the TESS Input Catalog centered on HD 209458 with a 0.2 degree radius.\n",
    "catalogTIC = Catalogs.query_object(target_name, radius=search_radius_deg, catalog=\"TIC\")\n",
    "print(\"Number of TIC objects within %f deg of %s: %u\" % (search_radius_deg, target_name, len(catalogTIC)))\n",
    "# What type of objects is the returned result?\n",
    "#print(type(catalogTIC))\n",
    "# What columns are available from the TIC?\n",
    "#print(catalogTIC.columns)\n",
    "\n",
    "# Identify where the luminosity class is set to \"DWARF\".\n",
    "where_dwarfs = np.where(catalogTIC['lumclass'] == 'DWARF')[0]\n",
    "\n",
    "# Let's also find out where the luminosity class is set to \"GIANT\".\n",
    "where_giants = np.where(catalogTIC['lumclass'] == 'GIANT')[0]\n",
    "\n",
    "print(\"Number of objects classified as 'DWARF' within %f deg of %s: %u\" %\n",
    "      (search_radius_deg, target_name, len(where_dwarfs)))\n",
    "print(\"Number of objects classified as 'GIANT' within %f deg of %s: %u\" %\n",
    "      (search_radius_deg, target_name, len(where_giants)))\n",
    "\n",
    "where_closest = np.argmin(catalogTIC['dstArcSec'])\n",
    "\n",
    "print(\"Closest TIC ID to %s: TIC %s, separation of %f arcsec. and a TESS mag. of %f\"%\n",
    "      (target_name, catalogTIC['ID'][where_closest], catalogTIC['dstArcSec'][where_closest],\n",
    "      catalogTIC['Tmag'][where_closest]))"
   ]
  },
  {
   "cell_type": "code",
   "execution_count": null,
   "id": "9d2f9776-46ad-44a0-a82c-ba3060f37d52",
   "metadata": {},
   "outputs": [],
   "source": []
  }
 ],
 "metadata": {
  "kernelspec": {
   "display_name": "TESS Environment",
   "language": "python",
   "name": "tess"
  },
  "language_info": {
   "codemirror_mode": {
    "name": "ipython",
    "version": 3
   },
   "file_extension": ".py",
   "mimetype": "text/x-python",
   "name": "python",
   "nbconvert_exporter": "python",
   "pygments_lexer": "ipython3",
   "version": "3.11.9"
  }
 },
 "nbformat": 4,
 "nbformat_minor": 5
}
